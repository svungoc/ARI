{
 "cells": [
  {
   "cell_type": "markdown",
   "metadata": {},
   "source": [
    "San Vu Ngoc - [IRMAR](https://irmar.univ-rennes1.fr/)\n",
    "___"
   ]
  },
  {
   "cell_type": "markdown",
   "metadata": {},
   "source": [
    "### Initialisations"
   ]
  },
  {
   "cell_type": "code",
   "execution_count": null,
   "metadata": {},
   "outputs": [],
   "source": [
    "%matplotlib inline\n",
    "# inline can be replaced by notebook to get interactive plots\n",
    "import numpy as np\n",
    "import matplotlib.pyplot as plt\n",
    "import matplotlib.image as img\n",
    "import matplotlib.cm as cm\n",
    "import matplotlib.colors as colors"
   ]
  },
  {
   "cell_type": "code",
   "execution_count": null,
   "metadata": {},
   "outputs": [],
   "source": [
    "plt.rcParams['figure.figsize'] = (20.0, 12.0) # set figures display bigger"
   ]
  },
  {
   "cell_type": "markdown",
   "metadata": {},
   "source": [
    "## Suite de Fibonacci\n",
    "\n",
    "digression ?\n",
    "\n",
    "https://youtu.be/DxmFbdp7v9Q?t=474\n"
   ]
  },
  {
   "cell_type": "code",
   "execution_count": null,
   "metadata": {},
   "outputs": [],
   "source": [
    "def fibPaire (n):\n",
    "    if n == 0:\n",
    "        return (0,1)\n",
    "    else:\n",
    "        a,b = fibPaire (n-1)\n",
    "        return (b,a+b)\n",
    "    \n",
    "def fib (n):\n",
    "    a,b = fibPaire (n)\n",
    "    return a"
   ]
  },
  {
   "cell_type": "code",
   "execution_count": null,
   "metadata": {},
   "outputs": [],
   "source": [
    "[fib(n) for n in range(0,17)]"
   ]
  },
  {
   "cell_type": "markdown",
   "metadata": {},
   "source": [
    "La complexité la \"pire\" est obtenue par des paires de __nombres de Fibonacci__ consécutifs. Leur pgcd est toujours 1 (ils sont premiers entre eux). À démontrer par récurrence..."
   ]
  },
  {
   "cell_type": "code",
   "execution_count": null,
   "metadata": {},
   "outputs": [],
   "source": [
    "#voir feuille 03\n",
    "def pgcdIter (a,b):\n",
    "    r = a % b\n",
    "    if r == 0:\n",
    "        return 1\n",
    "    else:\n",
    "        return 1 + pgcdIter(b,r)"
   ]
  },
  {
   "cell_type": "code",
   "execution_count": null,
   "metadata": {},
   "outputs": [],
   "source": [
    "pgcdIter(9227465, 14930352)"
   ]
  },
  {
   "cell_type": "markdown",
   "metadata": {},
   "source": [
    "Pour tester des grands nombres, il faut une version non récursive de l'algorithme."
   ]
  },
  {
   "cell_type": "code",
   "execution_count": null,
   "metadata": {},
   "outputs": [],
   "source": [
    "def fibI (n):\n",
    "    a,b = 0,1\n",
    "    while n > 0:\n",
    "        (a,b) = (b,a+b)\n",
    "        n = n-1\n",
    "    return a"
   ]
  },
  {
   "cell_type": "code",
   "execution_count": null,
   "metadata": {},
   "outputs": [],
   "source": [
    "[fibI(n) for n in range(0,18)]"
   ]
  },
  {
   "cell_type": "markdown",
   "metadata": {},
   "source": [
    "On constate que les points où le nombre d'itération est le plus grand correspondent à des couples (i,j) où les i,j sont des éléments consécutifs dans la suite de Fibonacci !"
   ]
  },
  {
   "cell_type": "code",
   "execution_count": null,
   "metadata": {},
   "outputs": [],
   "source": [
    "fibI(974), fibI(974+1)"
   ]
  },
  {
   "cell_type": "code",
   "execution_count": null,
   "metadata": {},
   "outputs": [],
   "source": [
    "float(fibI(974))"
   ]
  },
  {
   "cell_type": "code",
   "execution_count": null,
   "metadata": {},
   "outputs": [],
   "source": [
    "# voir feuille 03\n",
    "def pgcdI (a,b):  # version \"itérative\"\n",
    "    while b != 0:\n",
    "        (a, b) = (b, a % b)\n",
    "    return a"
   ]
  },
  {
   "cell_type": "code",
   "execution_count": null,
   "metadata": {},
   "outputs": [],
   "source": [
    "pgcdI(fibI(974), fibI(974+1))"
   ]
  },
  {
   "cell_type": "code",
   "execution_count": null,
   "metadata": {},
   "outputs": [],
   "source": [
    "pgcdIterI(fibI(974), fibI(974+1))"
   ]
  },
  {
   "cell_type": "code",
   "execution_count": null,
   "metadata": {},
   "outputs": [],
   "source": [
    "fibI(972), fibI(972+1)"
   ]
  },
  {
   "cell_type": "code",
   "execution_count": null,
   "metadata": {},
   "outputs": [],
   "source": [
    "pgcdIterI(fibI(972), fibI(972+1))"
   ]
  },
  {
   "cell_type": "markdown",
   "metadata": {},
   "source": [
    "### Mauvais (i,j)\n",
    "On trace les (i,j) qui sont les $(F_k,F_{k+1})$ **et leurs multiples**.\n",
    "La couleur indique la complexité de l'algorithme d'Euclide pour  `pgcd(i,j)`. On commence à $k=k0$."
   ]
  },
  {
   "cell_type": "code",
   "execution_count": null,
   "metadata": {},
   "outputs": [],
   "source": []
  },
  {
   "cell_type": "code",
   "execution_count": null,
   "metadata": {},
   "outputs": [],
   "source": [
    "def BAD (n,k0):\n",
    "    T = np.zeros((n,n))\n",
    "    F1, F2 = fibPaire(k0)   # on part les k0-ème et \n",
    "    m = 1                   # (k0+1)-ème nombres de Fibonacci.    \n",
    "    while F2 < n:\n",
    "        i, j = F1, F2\n",
    "        while j < n:\n",
    "            T[i,j] = m\n",
    "            T[j,i] = m\n",
    "            i, j = i+F1, j+F2\n",
    "        m = m+1\n",
    "        F1, F2 = F2, F1+F2   # on passe au couple de Fibonacci suivant\n",
    "    return T"
   ]
  },
  {
   "cell_type": "code",
   "execution_count": null,
   "metadata": {},
   "outputs": [],
   "source": [
    "ar=BAD(100,4)\n",
    "plt.imshow(ar, interpolation='none', cmap=cm.gist_earth)\n",
    "plt.colorbar()"
   ]
  },
  {
   "cell_type": "markdown",
   "metadata": {},
   "source": [
    "## Le nombre d'or\n",
    "\n",
    "Les pentes des droites de l'image ci-dessus sont données par le nombre d'or !\n",
    "\n",
    "$\\phi = \\frac{1+\\sqrt{5}}2$"
   ]
  },
  {
   "cell_type": "code",
   "execution_count": null,
   "metadata": {},
   "outputs": [],
   "source": [
    "pgcdI(fibI(3000), fibI(3000+1))"
   ]
  },
  {
   "cell_type": "code",
   "execution_count": null,
   "metadata": {},
   "outputs": [],
   "source": [
    "fibI(3001)"
   ]
  },
  {
   "cell_type": "code",
   "execution_count": null,
   "metadata": {},
   "outputs": [],
   "source": [
    "import math"
   ]
  },
  {
   "cell_type": "code",
   "execution_count": null,
   "metadata": {},
   "outputs": [],
   "source": [
    "(1+math.sqrt(5))/2"
   ]
  },
  {
   "cell_type": "code",
   "execution_count": null,
   "metadata": {},
   "outputs": [],
   "source": [
    "# une très bonne approximation !\n",
    "fibI(3000+1) / fibI(3000)"
   ]
  },
  {
   "cell_type": "code",
   "execution_count": null,
   "metadata": {},
   "outputs": [],
   "source": []
  }
 ],
 "metadata": {
  "@webio": {
   "lastCommId": "6F2F301E3F6541FAA96D520B90A005DF",
   "lastKernelId": "bab29dda-7a39-474f-b001-fcb7f5902246"
  },
  "kernelspec": {
   "display_name": "Python 3 (ipykernel)",
   "language": "python",
   "name": "python3"
  },
  "language_info": {
   "codemirror_mode": {
    "name": "ipython",
    "version": 3
   },
   "file_extension": ".py",
   "mimetype": "text/x-python",
   "name": "python",
   "nbconvert_exporter": "python",
   "pygments_lexer": "ipython3",
   "version": "3.10.6"
  }
 },
 "nbformat": 4,
 "nbformat_minor": 2
}
