{
 "cells": [
  {
   "cell_type": "markdown",
   "metadata": {},
   "source": [
    "San Vu Ngoc - [IRMAR](https://irmar.univ-rennes1.fr/)\n",
    "___"
   ]
  },
  {
   "cell_type": "markdown",
   "metadata": {},
   "source": [
    "### Initialisations"
   ]
  },
  {
   "cell_type": "code",
   "execution_count": null,
   "metadata": {},
   "outputs": [],
   "source": [
    "%matplotlib inline\n",
    "# inline can be replaced by notebook to get interactive plots\n",
    "import numpy as np\n",
    "import matplotlib.pyplot as plt\n",
    "import matplotlib.image as img\n",
    "import matplotlib.cm as cm\n",
    "import matplotlib.colors as colors"
   ]
  },
  {
   "cell_type": "code",
   "execution_count": null,
   "metadata": {},
   "outputs": [],
   "source": [
    "plt.rcParams['figure.figsize'] = (10.0, 6.0) # set figures display bigger"
   ]
  },
  {
   "cell_type": "markdown",
   "metadata": {},
   "source": [
    "## Algorithme d'Euclide pour le pgcd\n",
    "\n",
    "On fait ici le cas $a\\geq 0$ et $b\\geq 0$. À adapter pour le cas général !  \n",
    "\n",
    "L'algorithme est *récursif*. Il suffit de programmer deux étapes, qui correspondent à l'_initialisation_ et l'_hérédité_ dans le *principe de récurrence*.  \n",
    "\n",
    "1. __l'initialisation:__\n",
    "   En fait, en programmation récursive on appelle plutôt ça la _terminaison_: c'est ce qui permet d'assurer que le programme ne va pas tourner indéfiniment:\n",
    "   \"Si b=0, alors le pgcd(a,b) est a\"  \n",
    "   \n",
    "2. __l'hérédité:__\n",
    "    Pour calculer `pgcd(a,b)`, avec $a\\geq b$, on se ramène à des entiers \"plus petits\" grâce à la formule\n",
    "    `pgcd(a,b) = pgcd(b,r)`\n",
    "    où r est le reste de la division euclidienne de a par b.\n",
    "\n",
    "    Si jamais $a<b$ ce n'est pas grave car la méthode ci-dessus va appeler la fonction `pgcd(b,a)` !\n",
    "    (et ensuite, le problème ne se posera plus cas $r<b$).\n",
    "    \n",
    "__Important:__ Pour utiliser une méthode récursive, il faut démontrer que la notion de \"plus petits\" utilisée dans l'hérédité finit bien par aboutir à l'étape de terminaison en un nombre fini d'itérations...  \n",
    "Ici on sait que $r<b\\leq a$. Donc $\\min(b,r)\\leq \\min(a,b) - 1$. Donc _au pire_ au bout de $N$ étapes avec $N=\\min(a,b)$, on sait que le \"reste\" $r$ sera nul."
   ]
  },
  {
   "cell_type": "code",
   "execution_count": null,
   "metadata": {},
   "outputs": [],
   "source": [
    "def pgcd (a,b):\n",
    "    if b == 0:\n",
    "        return a  \n",
    "    else:\n",
    "        return pgcd(b, a % b)"
   ]
  },
  {
   "cell_type": "code",
   "execution_count": null,
   "metadata": {},
   "outputs": [],
   "source": [
    "pgcd(7,123)"
   ]
  },
  {
   "cell_type": "code",
   "execution_count": null,
   "metadata": {},
   "outputs": [],
   "source": [
    "pgcd(600,124)"
   ]
  },
  {
   "cell_type": "code",
   "execution_count": null,
   "metadata": {},
   "outputs": [],
   "source": [
    "pgcd(12,0), pgcd(0,0)"
   ]
  },
  {
   "cell_type": "code",
   "execution_count": null,
   "metadata": {},
   "outputs": [],
   "source": [
    "pgcd(1234,2019)"
   ]
  },
  {
   "cell_type": "markdown",
   "metadata": {},
   "source": [
    "## Version non récursive\n",
    "\n",
    "Les algorithmes récursifs sont très pratiques lorsqu'on peut raisonner par récurrence. Mais, en python, ils ne sont pas optimisés, il demandent davantage de mémoire (mémoire de _pile_ ou _stack_) et ne sont donc pas adaptés pour un grand nombre d'itérations (en gros supérieur à 1000).\n",
    "\n",
    "_(Pour le pgcd ce n'est pas très grave car l'algorithme d'Euclide est très efficace: peu d'itérations même pour des entiers très grands, cf. ci-dessous. Il faudrait des nombres avec plus de 200 chiffres pour que ça plante...)_"
   ]
  },
  {
   "cell_type": "code",
   "execution_count": null,
   "metadata": {},
   "outputs": [],
   "source": [
    "pgcd(98966670810630423534302151820587335031466666343849443734017657748199169524665705367570906859090512509718775557015222431021714647829386322577296271424256021684582295977152259098829205426386824411990866793L, 160131437125022133570186981636530600256034719271619021063640417693436516163698377535248015679488033602845112321108929620534730439060000506398830226180857811739131287777823445209422467744194016647915972857L)"
   ]
  },
  {
   "cell_type": "code",
   "execution_count": null,
   "metadata": {},
   "outputs": [],
   "source": [
    "pgcd(61164766314391710035884829815943265224568052927769577329622759945237346639032672167677108820397521093126336764093707189513015791230614183821533954756601790054548991800671186110593262317807192235925106064L, 98966670810630423534302151820587335031466666343849443734017657748199169524665705367570906859090512509718775557015222431021714647829386322577296271424256021684582295977152259098829205426386824411990866793L)"
   ]
  },
  {
   "cell_type": "code",
   "execution_count": null,
   "metadata": {},
   "outputs": [],
   "source": [
    "def pgcdI (a,b):  # version \"itérative\"\n",
    "    while b <> 0:\n",
    "        (a, b) = (b, a % b)\n",
    "    return a"
   ]
  },
  {
   "cell_type": "code",
   "execution_count": null,
   "metadata": {},
   "outputs": [],
   "source": [
    "pgcdI(1234,2019), pgcdI(12,18), pgcdI(7,123)"
   ]
  },
  {
   "cell_type": "code",
   "execution_count": null,
   "metadata": {},
   "outputs": [],
   "source": [
    "pgcdI(61164766314391710035884829815943265224568052927769577329622759945237346639032672167677108820397521093126336764093707189513015791230614183821533954756601790054548991800671186110593262317807192235925106064L, 98966670810630423534302151820587335031466666343849443734017657748199169524665705367570906859090512509718775557015222431021714647829386322577296271424256021684582295977152259098829205426386824411990866793L)"
   ]
  },
  {
   "cell_type": "markdown",
   "metadata": {},
   "source": [
    "## Images"
   ]
  },
  {
   "cell_type": "markdown",
   "metadata": {},
   "source": [
    "### 1. pgcd\n",
    "\n",
    "Rappel: on a tracé la semaine dernière la relation \"i divise j\". Maintenant on regarde le \"graphe\" de \"pgcd(i,j)\"."
   ]
  },
  {
   "cell_type": "code",
   "execution_count": null,
   "metadata": {},
   "outputs": [],
   "source": [
    "def GCD (n):\n",
    "    T = np.zeros((n,n))\n",
    "    for i in range(1, n-1):\n",
    "        for j in range(1, n-1):\n",
    "            T[i,j] = pgcdI(j,i)\n",
    "    return T"
   ]
  },
  {
   "cell_type": "code",
   "execution_count": null,
   "metadata": {},
   "outputs": [],
   "source": [
    "plt.imshow(GCD(1000), interpolation='lanczos', cmap=cm.Spectral)\n",
    "plt.colorbar()\n",
    "#img.imsave('pgcd-log1000.png', GCD(1000), cmap=cm.Spectral)"
   ]
  },
  {
   "cell_type": "markdown",
   "metadata": {},
   "source": [
    "### 2. Reste de la division de i par j"
   ]
  },
  {
   "cell_type": "code",
   "execution_count": null,
   "metadata": {},
   "outputs": [],
   "source": [
    "n=100\n",
    "R = np.zeros((n,n))\n",
    "for i in range(1, n-1):\n",
    "        for j in range(1, n-1):\n",
    "            R[i,j] = j % i + 1  # on ajoute 1 pour pouvoir faire \n",
    "                                # une échelle de couleurs logarithmique"
   ]
  },
  {
   "cell_type": "code",
   "execution_count": null,
   "metadata": {},
   "outputs": [],
   "source": [
    "plt.imshow(R, interpolation='none', cmap=cm.Spectral, norm=colors.LogNorm(1,n))\n",
    "plt.colorbar()"
   ]
  },
  {
   "cell_type": "code",
   "execution_count": null,
   "metadata": {},
   "outputs": [],
   "source": [
    "Top = R[1:20,::]\n",
    "plt.imshow(Top, interpolation='nearest', cmap=cm.Spectral, norm=colors.LogNorm(1,n))"
   ]
  },
  {
   "cell_type": "markdown",
   "metadata": {},
   "source": [
    "### 3. Nombre d'itérations de l'algorithme d'Euclide"
   ]
  },
  {
   "cell_type": "code",
   "execution_count": null,
   "metadata": {},
   "outputs": [],
   "source": [
    "def pgcdIter (a,b):\n",
    "    r = a % b\n",
    "    if r == 0:\n",
    "        return 1\n",
    "    else:\n",
    "        return 1 + pgcdIter(b,r)\n",
    "    \n",
    "def pgcdIterI (a,b):  # version \"itérative\"\n",
    "    n = 0\n",
    "    while b <> 0:\n",
    "        (a, b) = (b, a % b)\n",
    "        n = n + 1\n",
    "    return n"
   ]
  },
  {
   "cell_type": "code",
   "execution_count": null,
   "metadata": {},
   "outputs": [],
   "source": [
    "pgcdIter(100,1), pgcdIterI(100,1)"
   ]
  },
  {
   "cell_type": "code",
   "execution_count": null,
   "metadata": {},
   "outputs": [],
   "source": [
    "pgcdIter(1234,2018), pgcdIterI(1234,2018)"
   ]
  },
  {
   "cell_type": "code",
   "execution_count": null,
   "metadata": {},
   "outputs": [],
   "source": [
    "def ITER (n):\n",
    "    T = np.zeros((n,n))\n",
    "    for i in range(1, n-1):\n",
    "        for j in range(1, n-1):\n",
    "            T[i,j] = pgcdIter(j,i)\n",
    "    return T"
   ]
  },
  {
   "cell_type": "code",
   "execution_count": null,
   "metadata": {},
   "outputs": [],
   "source": [
    "plt.imshow(ITER(100), interpolation='nearest', cmap=cm.gist_earth)\n",
    "plt.colorbar()"
   ]
  },
  {
   "cell_type": "code",
   "execution_count": null,
   "metadata": {},
   "outputs": [],
   "source": [
    "ar=ITER(1000)\n",
    "plt.imshow(ar, cmap=cm.gist_earth)\n",
    "plt.colorbar()\n",
    "#img.imsave('image1000.png', ar, cmap=cm.gist_earth)"
   ]
  },
  {
   "cell_type": "code",
   "execution_count": null,
   "metadata": {},
   "outputs": [],
   "source": [
    "plt.imshow(ITER(600), cmap=cm.Spectral)\n",
    "plt.colorbar()"
   ]
  },
  {
   "cell_type": "code",
   "execution_count": null,
   "metadata": {},
   "outputs": [],
   "source": [
    "Top = ar[1:200,::]\n",
    "plt.imshow(Top, interpolation='nearest', cmap=cm.gist_earth)"
   ]
  },
  {
   "cell_type": "code",
   "execution_count": null,
   "metadata": {},
   "outputs": [],
   "source": [
    "pgcdIter(546,337)"
   ]
  },
  {
   "cell_type": "code",
   "execution_count": null,
   "metadata": {},
   "outputs": [],
   "source": [
    "pgcdIter(377,610)"
   ]
  },
  {
   "cell_type": "code",
   "execution_count": null,
   "metadata": {},
   "outputs": [],
   "source": [
    "pgcdIter(55,89)"
   ]
  },
  {
   "cell_type": "markdown",
   "metadata": {},
   "source": [
    "On peut regarder l'image avec le gimp pour voir les pixels... cf (377,610)"
   ]
  },
  {
   "cell_type": "markdown",
   "metadata": {},
   "source": [
    "## Suite de Fibonacci\n",
    "\n",
    "On constate que les points où le nombre d'itération est le plus grand correspondent à des couples (i,j) où les i,j sont des éléments consécutifs dans la suite de Fibonacci !"
   ]
  },
  {
   "cell_type": "code",
   "execution_count": null,
   "metadata": {},
   "outputs": [],
   "source": [
    "def fibPaire (n):\n",
    "    if n == 0:\n",
    "        return (0,1)\n",
    "    else:\n",
    "        a,b = fibPaire (n-1)\n",
    "        return (b,a+b)\n",
    "    \n",
    "def fib (n):\n",
    "    a,b = fibPaire (n)\n",
    "    return a"
   ]
  },
  {
   "cell_type": "code",
   "execution_count": null,
   "metadata": {},
   "outputs": [],
   "source": [
    "[fib(n) for n in range(0,17)]"
   ]
  },
  {
   "cell_type": "markdown",
   "metadata": {},
   "source": [
    "La complexité la \"pire\" est obtenue par des paires de __nombres de Fibonacci__ consécutifs. Leur pgcd est toujours 1 (ils sont premiers entre eux). À démontrer par récurrence..."
   ]
  },
  {
   "cell_type": "code",
   "execution_count": null,
   "metadata": {},
   "outputs": [],
   "source": [
    "pgcdIter(9227465, 14930352)"
   ]
  },
  {
   "cell_type": "markdown",
   "metadata": {},
   "source": [
    "Pour tester des grands nombres, il faut une version non récursive de l'algorithme."
   ]
  },
  {
   "cell_type": "code",
   "execution_count": null,
   "metadata": {},
   "outputs": [],
   "source": [
    "def fibI (n):\n",
    "    a,b = 0,1\n",
    "    while n > 0:\n",
    "        (a,b) = (b,a+b)\n",
    "        n = n-1\n",
    "    return a"
   ]
  },
  {
   "cell_type": "code",
   "execution_count": null,
   "metadata": {},
   "outputs": [],
   "source": [
    "[fibI(n) for n in range(0,15)]"
   ]
  },
  {
   "cell_type": "code",
   "execution_count": null,
   "metadata": {},
   "outputs": [],
   "source": [
    "fibI(974), fibI(974+1)"
   ]
  },
  {
   "cell_type": "code",
   "execution_count": null,
   "metadata": {},
   "outputs": [],
   "source": [
    "float(fibI(974))"
   ]
  },
  {
   "cell_type": "code",
   "execution_count": null,
   "metadata": {},
   "outputs": [],
   "source": [
    "pgcdI(fibI(974), fibI(974+1))"
   ]
  },
  {
   "cell_type": "code",
   "execution_count": null,
   "metadata": {},
   "outputs": [],
   "source": [
    "pgcdIterI(fibI(974), fibI(974+1))"
   ]
  },
  {
   "cell_type": "code",
   "execution_count": null,
   "metadata": {},
   "outputs": [],
   "source": [
    "fibI(972), fibI(972+1)"
   ]
  },
  {
   "cell_type": "markdown",
   "metadata": {},
   "source": [
    "### Mauvais (i,j)\n",
    "On trace les (i,j) qui sont les $(F_k,F_{k+1})$ **et leurs multiples**.\n",
    "La couleur indique la complexité de l'algorithme d'Euclide pour  `pgcd(i,j)`. On commence à $k=k0$."
   ]
  },
  {
   "cell_type": "code",
   "execution_count": null,
   "metadata": {},
   "outputs": [],
   "source": [
    "def BAD (n,k0):\n",
    "    T = np.zeros((n,n))\n",
    "    F1, F2 = fibPaire(k0)   # on part les k0-ème et \n",
    "    m = 1                   # (k0+1)-ème nombres de Fibonacci.    \n",
    "    while F2 < n:\n",
    "        i, j = F1, F2\n",
    "        while j < n:\n",
    "            T[i,j] = m\n",
    "            T[j,i] = m\n",
    "            i, j = i+F1, j+F2\n",
    "        m = m+1\n",
    "        F1, F2 = F2, F1+F2   # on passe au couple de Fibonacci suivant\n",
    "    return T"
   ]
  },
  {
   "cell_type": "code",
   "execution_count": null,
   "metadata": {},
   "outputs": [],
   "source": [
    "ar=BAD(100,4)\n",
    "plt.imshow(ar, interpolation='none', cmap=cm.gist_earth)\n",
    "plt.colorbar()"
   ]
  },
  {
   "cell_type": "markdown",
   "metadata": {},
   "source": [
    "## Le nombre d'or\n",
    "\n",
    "Les pentes des droites de l'image ci-dessus sont données par le nombre d'or !\n",
    "\n",
    "$\\phi = \\frac{1+\\sqrt{5}}2$"
   ]
  },
  {
   "cell_type": "code",
   "execution_count": null,
   "metadata": {},
   "outputs": [],
   "source": []
  }
 ],
 "metadata": {
  "@webio": {
   "lastCommId": "902824DBDA024F1A869903FE7B6724B1",
   "lastKernelId": "77e29ce5-6724-4c61-b71b-b0aa957dcc5c"
  },
  "kernelspec": {
   "display_name": "Python 2",
   "language": "python",
   "name": "python2"
  },
  "language_info": {
   "codemirror_mode": {
    "name": "ipython",
    "version": 2
   },
   "file_extension": ".py",
   "mimetype": "text/x-python",
   "name": "python",
   "nbconvert_exporter": "python",
   "pygments_lexer": "ipython2",
   "version": "2.7.12"
  }
 },
 "nbformat": 4,
 "nbformat_minor": 2
}
