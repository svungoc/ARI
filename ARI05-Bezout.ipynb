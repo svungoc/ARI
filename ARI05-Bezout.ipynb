{
 "cells": [
  {
   "cell_type": "markdown",
   "metadata": {},
   "source": [
    "San Vu Ngoc - [IRMAR](https://irmar.univ-rennes1.fr/)\n",
    "___"
   ]
  },
  {
   "cell_type": "markdown",
   "metadata": {},
   "source": [
    "## Algorithme d'Euclide \"étendu\" qui fournit les entiers $u$ et $v$ tels que $au + bv = d$\n",
    "\n",
    "Ici aussi on choisit d'abord une méthode récursive, la plus simple du point de vue mathématique, et aussi la plus facile à programmer.\n",
    "\n",
    "Supposons par récurrence que $bu' + rv' = d = pgcd(b,r)$, alors en utilisant $a = bq + r$ on voit que\n",
    "$bu' + (a-bq)v' = d$ donc\n",
    "$$ av' + b(u' - qv') = d =pgcd(a,b).$$\n",
    "\n",
    "_Remarque_: La suite des \"restes\" est la même que pour l'algorithme d'Euclide, donc on sait que ça termine. Et la complexité est la même."
   ]
  },
  {
   "cell_type": "code",
   "execution_count": null,
   "metadata": {},
   "outputs": [],
   "source": [
    "def Bezout (a,b):  \n",
    "    \"cette fonction retourne (d,u,v) tel que au+bv=d, où d = pgcd(a,b)\"\n",
    "    if b == 0:\n",
    "        return (a, 1, 0)\n",
    "    else:\n",
    "        r = a % b\n",
    "        q = a // b\n",
    "        print(\"%d = %d*%d + %d\" % (a,q,b,r))\n",
    "        d,uu,vv = Bezout(b,r)\n",
    "        print (\"*  %d*(%d) + %d*(%d) = %d\" % (a,vv, b, uu - vv*q, d))\n",
    "        return (d, vv, uu - vv*q)"
   ]
  },
  {
   "cell_type": "code",
   "execution_count": null,
   "metadata": {},
   "outputs": [],
   "source": [
    "Bezout(1234,2020)"
   ]
  },
  {
   "cell_type": "markdown",
   "metadata": {},
   "source": [
    "Vérifions:"
   ]
  },
  {
   "cell_type": "code",
   "execution_count": null,
   "metadata": {},
   "outputs": [],
   "source": [
    "-257*1234 + 157*2020"
   ]
  },
  {
   "cell_type": "markdown",
   "metadata": {},
   "source": [
    "Puisque le $pgcd$ est 2, on peut diviser chaque nombre par 2: $1234=2\\times 617$ et $2020=2\\times 1010$.\n",
    "\n",
    "Que se passe-t'il quand on calcule $pgcd(2\\times a, 2\\times b)$ ?\n",
    "\n",
    "En suivant les étapes de l'algo, on voit bien que ce sont les mêmes que $pgcd(a,b)$: il suffit de \"multiplier chaque ligne par 2\". \n",
    "\n",
    "Cette remarque fournit une preuve de la formule $pgcd(ka,kb) = |k| pgcd(a,b)$\n",
    "(qu'on peut démontrer aussi avec le théorème de Bézout)."
   ]
  },
  {
   "cell_type": "code",
   "execution_count": null,
   "metadata": {},
   "outputs": [],
   "source": [
    "Bezout(617,1010)"
   ]
  },
  {
   "cell_type": "markdown",
   "metadata": {},
   "source": [
    "### Vérification du calcul effectué en cours:"
   ]
  },
  {
   "cell_type": "code",
   "execution_count": null,
   "metadata": {},
   "outputs": [],
   "source": [
    "Bezout(600,124)"
   ]
  },
  {
   "cell_type": "markdown",
   "metadata": {},
   "source": [
    "### Version itérative\n",
    "\n",
    "À chaque étape on écrit le \"reste courant\" comme CL(a,b).\n",
    "\n",
    "La formule des coefficients de Bézout $(u_n,v_n)$ (construits par récurrence) a été vue en cours."
   ]
  },
  {
   "cell_type": "code",
   "execution_count": null,
   "metadata": {},
   "outputs": [],
   "source": [
    "def BezoutI (a,b):\n",
    "    \"cette fonction retourne (d,u,v) tel que au+bv=d\"\n",
    "    uu, vv   = 1, 0\n",
    "    u, v = 0, 1\n",
    "    rr, r = a, b  # invariants de boucle: a*u + b*v = r  et  a*uu = b*vv = rr\n",
    "    while r != 0:\n",
    "        q = rr // r # on divise l'ancien reste \"r(n-1)\" (rr) par le reste \"r(n)\" (r)\n",
    "        print (\"On a %d = %d*%d + %d,\" % (rr, q, r, rr % r ))\n",
    "        r, rr = rr % r, r\n",
    "        u, uu = uu - q*u, u # on calcule les nouveaux coefficients u,v\n",
    "        v, vv = vv - q*v, v\n",
    "        print (\"  donc %d = %d*(%d) + %d*(%d).\" % (r, a, u, b, v))\n",
    "    return (rr,uu,vv)        "
   ]
  },
  {
   "cell_type": "code",
   "execution_count": null,
   "metadata": {},
   "outputs": [],
   "source": [
    "BezoutI(600,124)"
   ]
  },
  {
   "cell_type": "code",
   "execution_count": null,
   "metadata": {},
   "outputs": [],
   "source": [
    "BezoutI(1234,2020)"
   ]
  }
 ],
 "metadata": {
  "@webio": {
   "lastCommId": "D2A904031E91402E810831BDE29CF112",
   "lastKernelId": "b1a4a8af-3a66-4c89-afa1-d8379ac7b1bd"
  },
  "kernelspec": {
   "display_name": "Python 3 (ipykernel)",
   "language": "python",
   "name": "python3"
  },
  "language_info": {
   "codemirror_mode": {
    "name": "ipython",
    "version": 3
   },
   "file_extension": ".py",
   "mimetype": "text/x-python",
   "name": "python",
   "nbconvert_exporter": "python",
   "pygments_lexer": "ipython3",
   "version": "3.10.6"
  }
 },
 "nbformat": 4,
 "nbformat_minor": 2
}
