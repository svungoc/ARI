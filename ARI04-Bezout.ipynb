{
 "cells": [
  {
   "cell_type": "markdown",
   "metadata": {},
   "source": [
    "San Vu Ngoc - [IRMAR](https://irmar.univ-rennes1.fr/)\n",
    "___"
   ]
  },
  {
   "cell_type": "markdown",
   "metadata": {},
   "source": [
    "## Algorithme d'Euclide \"étendu\" qui fournit les entiers $u$ et $v$ tels que $au + bv = d$\n",
    "\n",
    "Ici aussi on choisit d'abord une méthode récursive, la plus simple du point de vue mathématique, et aussi la plus facile à programmer.\n",
    "\n",
    "Supposons par récurrence que $bu' + rv' = d = pgcd(b,r)$, alors en utilisant $a = bq + r$ on voit que\n",
    "$bu' + (a-bq)v' = d$ donc\n",
    "$$ av' + b(u' - qv') = d =pgcd(a,b).$$\n",
    "\n",
    "_Remarque_: La suite des \"restes\" est la même que pour l'algorithme d'Euclide, donc on sait que ça termine. Et la complexité est la même."
   ]
  },
  {
   "cell_type": "code",
   "execution_count": 1,
   "metadata": {},
   "outputs": [],
   "source": [
    "def Bezout (a,b):  \n",
    "    \"cette fonction retourne (d,u,v) tel que au+bv=d\"\n",
    "    if b == 0:\n",
    "        return (a, 1, 0)\n",
    "    else:\n",
    "        r = a % b\n",
    "        q = a / b\n",
    "        print(\"%d = %d*%d + %d\" % (a,q,b,r))\n",
    "        d,uu,vv = Bezout(b,r)\n",
    "        print (\"%d*(%d) + %d*(%d) = %d\" % (a,vv, b, uu - vv*q, d))\n",
    "        return (d, vv, uu - vv*q)"
   ]
  },
  {
   "cell_type": "code",
   "execution_count": 2,
   "metadata": {},
   "outputs": [
    {
     "name": "stdout",
     "output_type": "stream",
     "text": [
      "1234 = 0*2018 + 1234\n",
      "2018 = 1*1234 + 784\n",
      "1234 = 1*784 + 450\n",
      "784 = 1*450 + 334\n",
      "450 = 1*334 + 116\n",
      "334 = 2*116 + 102\n",
      "116 = 1*102 + 14\n",
      "102 = 7*14 + 4\n",
      "14 = 3*4 + 2\n",
      "4 = 2*2 + 0\n",
      "4*(0) + 2*(1) = 2\n",
      "14*(1) + 4*(-3) = 2\n",
      "102*(-3) + 14*(22) = 2\n",
      "116*(22) + 102*(-25) = 2\n",
      "334*(-25) + 116*(72) = 2\n",
      "450*(72) + 334*(-97) = 2\n",
      "784*(-97) + 450*(169) = 2\n",
      "1234*(169) + 784*(-266) = 2\n",
      "2018*(-266) + 1234*(435) = 2\n",
      "1234*(435) + 2018*(-266) = 2\n"
     ]
    },
    {
     "data": {
      "text/plain": [
       "(2, 435, -266)"
      ]
     },
     "execution_count": 2,
     "metadata": {},
     "output_type": "execute_result"
    }
   ],
   "source": [
    "Bezout(1234,2018)"
   ]
  },
  {
   "cell_type": "markdown",
   "metadata": {},
   "source": [
    "Vérifions:"
   ]
  },
  {
   "cell_type": "code",
   "execution_count": 3,
   "metadata": {},
   "outputs": [
    {
     "data": {
      "text/plain": [
       "2"
      ]
     },
     "execution_count": 3,
     "metadata": {},
     "output_type": "execute_result"
    }
   ],
   "source": [
    "435*1234 - 266*2018"
   ]
  },
  {
   "cell_type": "markdown",
   "metadata": {},
   "source": [
    "Par Bachet-Bézout, on en déduit que (1234/2) et (2018/2) sont premiers entre eux:"
   ]
  },
  {
   "cell_type": "code",
   "execution_count": 4,
   "metadata": {},
   "outputs": [
    {
     "data": {
      "text/plain": [
       "1"
      ]
     },
     "execution_count": 4,
     "metadata": {},
     "output_type": "execute_result"
    }
   ],
   "source": [
    "617*(-574) + 351*1009"
   ]
  },
  {
   "cell_type": "code",
   "execution_count": 5,
   "metadata": {},
   "outputs": [
    {
     "name": "stdout",
     "output_type": "stream",
     "text": [
      "617 = 0*1009 + 617\n",
      "1009 = 1*617 + 392\n",
      "617 = 1*392 + 225\n",
      "392 = 1*225 + 167\n",
      "225 = 1*167 + 58\n",
      "167 = 2*58 + 51\n",
      "58 = 1*51 + 7\n",
      "51 = 7*7 + 2\n",
      "7 = 3*2 + 1\n",
      "2 = 2*1 + 0\n",
      "2*(0) + 1*(1) = 1\n",
      "7*(1) + 2*(-3) = 1\n",
      "51*(-3) + 7*(22) = 1\n",
      "58*(22) + 51*(-25) = 1\n",
      "167*(-25) + 58*(72) = 1\n",
      "225*(72) + 167*(-97) = 1\n",
      "392*(-97) + 225*(169) = 1\n",
      "617*(169) + 392*(-266) = 1\n",
      "1009*(-266) + 617*(435) = 1\n",
      "617*(435) + 1009*(-266) = 1\n"
     ]
    },
    {
     "data": {
      "text/plain": [
       "(1, 435, -266)"
      ]
     },
     "execution_count": 5,
     "metadata": {},
     "output_type": "execute_result"
    }
   ],
   "source": [
    "Bezout(617,1009)"
   ]
  },
  {
   "cell_type": "code",
   "execution_count": 6,
   "metadata": {},
   "outputs": [
    {
     "name": "stdout",
     "output_type": "stream",
     "text": [
      "600 = 4*124 + 104\n",
      "124 = 1*104 + 20\n",
      "104 = 5*20 + 4\n",
      "20 = 5*4 + 0\n",
      "20*(0) + 4*(1) = 4\n",
      "104*(1) + 20*(-5) = 4\n",
      "124*(-5) + 104*(6) = 4\n",
      "600*(6) + 124*(-29) = 4\n"
     ]
    },
    {
     "data": {
      "text/plain": [
       "(4, 6, -29)"
      ]
     },
     "execution_count": 6,
     "metadata": {},
     "output_type": "execute_result"
    }
   ],
   "source": [
    "Bezout(600,124)"
   ]
  },
  {
   "cell_type": "markdown",
   "metadata": {},
   "source": [
    "### Version itérative"
   ]
  },
  {
   "cell_type": "code",
   "execution_count": 1,
   "metadata": {},
   "outputs": [],
   "source": [
    "def BezoutI (a,b):\n",
    "    \"cette fonction retourne (d,u,v) tel que au+bv=d\"\n",
    "    uu, vv   = 1, 0\n",
    "    u, v = 0, 1\n",
    "    rr, r = a, b  # invariants de boucle: a*u + b*v = r  et  a*uu = b*vv = rr\n",
    "    while r != 0:\n",
    "        q = rr / r # on divise l'ancien reste \"r(n-1)\" (rr) par le reste \"r(n)\" (r)\n",
    "        print (\"On a %d = %d*%d + %d,\" % (rr, q, r, rr % r ))\n",
    "        r, rr = rr % r, r\n",
    "        u, uu = uu - q*u, u # on calcule les nouveaux coefficients u,v\n",
    "        v, vv = vv - q*v, v\n",
    "        print (\"  donc %d*(%d) + %d*(%d) = %d.\" % (a, u, b, v, r))\n",
    "    return (rr,uu,vv)        "
   ]
  },
  {
   "cell_type": "code",
   "execution_count": 8,
   "metadata": {},
   "outputs": [
    {
     "name": "stdout",
     "output_type": "stream",
     "text": [
      "On a 600 = 4*124 + 104,\n",
      "  donc 600*(1) + 124*(-4) = 104.\n",
      "On a 124 = 1*104 + 20,\n",
      "  donc 600*(-1) + 124*(5) = 20.\n",
      "On a 104 = 5*20 + 4,\n",
      "  donc 600*(6) + 124*(-29) = 4.\n",
      "On a 20 = 5*4 + 0,\n",
      "  donc 600*(-31) + 124*(150) = 0.\n"
     ]
    },
    {
     "data": {
      "text/plain": [
       "(4, 6, -29)"
      ]
     },
     "execution_count": 8,
     "metadata": {},
     "output_type": "execute_result"
    }
   ],
   "source": [
    "BezoutI(600,124)"
   ]
  },
  {
   "cell_type": "code",
   "execution_count": 9,
   "metadata": {},
   "outputs": [
    {
     "name": "stdout",
     "output_type": "stream",
     "text": [
      "On a 1234 = 0*2018 + 1234,\n",
      "  donc 1234*(1) + 2018*(0) = 1234.\n",
      "On a 2018 = 1*1234 + 784,\n",
      "  donc 1234*(-1) + 2018*(1) = 784.\n",
      "On a 1234 = 1*784 + 450,\n",
      "  donc 1234*(2) + 2018*(-1) = 450.\n",
      "On a 784 = 1*450 + 334,\n",
      "  donc 1234*(-3) + 2018*(2) = 334.\n",
      "On a 450 = 1*334 + 116,\n",
      "  donc 1234*(5) + 2018*(-3) = 116.\n",
      "On a 334 = 2*116 + 102,\n",
      "  donc 1234*(-13) + 2018*(8) = 102.\n",
      "On a 116 = 1*102 + 14,\n",
      "  donc 1234*(18) + 2018*(-11) = 14.\n",
      "On a 102 = 7*14 + 4,\n",
      "  donc 1234*(-139) + 2018*(85) = 4.\n",
      "On a 14 = 3*4 + 2,\n",
      "  donc 1234*(435) + 2018*(-266) = 2.\n",
      "On a 4 = 2*2 + 0,\n",
      "  donc 1234*(-1009) + 2018*(617) = 0.\n"
     ]
    },
    {
     "data": {
      "text/plain": [
       "(2, 435, -266)"
      ]
     },
     "execution_count": 9,
     "metadata": {},
     "output_type": "execute_result"
    }
   ],
   "source": [
    "BezoutI(1234,2018)"
   ]
  },
  {
   "cell_type": "code",
   "execution_count": 3,
   "metadata": {},
   "outputs": [
    {
     "name": "stdout",
     "output_type": "stream",
     "text": [
      "On a 124 = 0*235 + 124,\n",
      "  donc 124*(1) + 235*(0) = 124.\n",
      "On a 235 = 1*124 + 111,\n",
      "  donc 124*(-1) + 235*(1) = 111.\n",
      "On a 124 = 1*111 + 13,\n",
      "  donc 124*(2) + 235*(-1) = 13.\n",
      "On a 111 = 8*13 + 7,\n",
      "  donc 124*(-17) + 235*(9) = 7.\n",
      "On a 13 = 1*7 + 6,\n",
      "  donc 124*(19) + 235*(-10) = 6.\n",
      "On a 7 = 1*6 + 1,\n",
      "  donc 124*(-36) + 235*(19) = 1.\n",
      "On a 6 = 6*1 + 0,\n",
      "  donc 124*(235) + 235*(-124) = 0.\n"
     ]
    },
    {
     "data": {
      "text/plain": [
       "(1, -36, 19)"
      ]
     },
     "execution_count": 3,
     "metadata": {},
     "output_type": "execute_result"
    }
   ],
   "source": [
    "BezoutI(124,235)"
   ]
  },
  {
   "cell_type": "code",
   "execution_count": 4,
   "metadata": {},
   "outputs": [
    {
     "data": {
      "text/plain": [
       "-3401"
      ]
     },
     "execution_count": 4,
     "metadata": {},
     "output_type": "execute_result"
    }
   ],
   "source": [
    "29*135-59*124"
   ]
  },
  {
   "cell_type": "code",
   "execution_count": 5,
   "metadata": {},
   "outputs": [
    {
     "name": "stdout",
     "output_type": "stream",
     "text": [
      "On a 693 = 6*105 + 63,\n",
      "  donc 693*(1) + 105*(-6) = 63.\n",
      "On a 105 = 1*63 + 42,\n",
      "  donc 693*(-1) + 105*(7) = 42.\n",
      "On a 63 = 1*42 + 21,\n",
      "  donc 693*(2) + 105*(-13) = 21.\n",
      "On a 42 = 2*21 + 0,\n",
      "  donc 693*(-5) + 105*(33) = 0.\n"
     ]
    },
    {
     "data": {
      "text/plain": [
       "(21, 2, -13)"
      ]
     },
     "execution_count": 5,
     "metadata": {},
     "output_type": "execute_result"
    }
   ],
   "source": [
    "BezoutI(693,105)"
   ]
  },
  {
   "cell_type": "code",
   "execution_count": 2,
   "metadata": {},
   "outputs": [
    {
     "name": "stdout",
     "output_type": "stream",
     "text": [
      "On a 18 = 0*385 + 18,\n",
      "  donc 18*(1) + 385*(0) = 18.\n",
      "On a 385 = 21*18 + 7,\n",
      "  donc 18*(-21) + 385*(1) = 7.\n",
      "On a 18 = 2*7 + 4,\n",
      "  donc 18*(43) + 385*(-2) = 4.\n",
      "On a 7 = 1*4 + 3,\n",
      "  donc 18*(-64) + 385*(3) = 3.\n",
      "On a 4 = 1*3 + 1,\n",
      "  donc 18*(107) + 385*(-5) = 1.\n",
      "On a 3 = 3*1 + 0,\n",
      "  donc 18*(-385) + 385*(18) = 0.\n"
     ]
    },
    {
     "data": {
      "text/plain": [
       "(1, 107, -5)"
      ]
     },
     "execution_count": 2,
     "metadata": {},
     "output_type": "execute_result"
    }
   ],
   "source": [
    "BezoutI(18,385)"
   ]
  },
  {
   "cell_type": "code",
   "execution_count": 3,
   "metadata": {},
   "outputs": [
    {
     "name": "stdout",
     "output_type": "stream",
     "text": [
      "On a 1665 = 1*1035 + 630,\n",
      "  donc 1665*(1) + 1035*(-1) = 630.\n",
      "On a 1035 = 1*630 + 405,\n",
      "  donc 1665*(-1) + 1035*(2) = 405.\n",
      "On a 630 = 1*405 + 225,\n",
      "  donc 1665*(2) + 1035*(-3) = 225.\n",
      "On a 405 = 1*225 + 180,\n",
      "  donc 1665*(-3) + 1035*(5) = 180.\n",
      "On a 225 = 1*180 + 45,\n",
      "  donc 1665*(5) + 1035*(-8) = 45.\n",
      "On a 180 = 4*45 + 0,\n",
      "  donc 1665*(-23) + 1035*(37) = 0.\n"
     ]
    },
    {
     "data": {
      "text/plain": [
       "(45, 5, -8)"
      ]
     },
     "execution_count": 3,
     "metadata": {},
     "output_type": "execute_result"
    }
   ],
   "source": [
    "BezoutI(1665, 1035)"
   ]
  },
  {
   "cell_type": "code",
   "execution_count": 4,
   "metadata": {},
   "outputs": [
    {
     "name": "stdout",
     "output_type": "stream",
     "text": [
      "On a 37 = 1*23 + 14,\n",
      "  donc 37*(1) + 23*(-1) = 14.\n",
      "On a 23 = 1*14 + 9,\n",
      "  donc 37*(-1) + 23*(2) = 9.\n",
      "On a 14 = 1*9 + 5,\n",
      "  donc 37*(2) + 23*(-3) = 5.\n",
      "On a 9 = 1*5 + 4,\n",
      "  donc 37*(-3) + 23*(5) = 4.\n",
      "On a 5 = 1*4 + 1,\n",
      "  donc 37*(5) + 23*(-8) = 1.\n",
      "On a 4 = 4*1 + 0,\n",
      "  donc 37*(-23) + 23*(37) = 0.\n"
     ]
    },
    {
     "data": {
      "text/plain": [
       "(1, 5, -8)"
      ]
     },
     "execution_count": 4,
     "metadata": {},
     "output_type": "execute_result"
    }
   ],
   "source": [
    "BezoutI(37, 23)"
   ]
  },
  {
   "cell_type": "code",
   "execution_count": null,
   "metadata": {},
   "outputs": [],
   "source": []
  }
 ],
 "metadata": {
  "kernelspec": {
   "display_name": "Python 2",
   "language": "python",
   "name": "python2"
  },
  "language_info": {
   "codemirror_mode": {
    "name": "ipython",
    "version": 2
   },
   "file_extension": ".py",
   "mimetype": "text/x-python",
   "name": "python",
   "nbconvert_exporter": "python",
   "pygments_lexer": "ipython2",
   "version": "2.7.12"
  }
 },
 "nbformat": 4,
 "nbformat_minor": 2
}
